{
  "nbformat": 4,
  "nbformat_minor": 0,
  "metadata": {
    "colab": {
      "name": "mehmet.ipynb",
      "provenance": [],
      "authorship_tag": "ABX9TyPUG7skTqOwfP6OkRypWFCU",
      "include_colab_link": true
    },
    "kernelspec": {
      "name": "python3",
      "display_name": "Python 3"
    },
    "language_info": {
      "name": "python"
    }
  },
  "cells": [
    {
      "cell_type": "markdown",
      "metadata": {
        "id": "view-in-github",
        "colab_type": "text"
      },
      "source": [
        "<a href=\"https://colab.research.google.com/github/dtMehmet/about-me/blob/main/mehmet.ipynb\" target=\"_parent\"><img src=\"https://colab.research.google.com/assets/colab-badge.svg\" alt=\"Open In Colab\"/></a>"
      ]
    },
    {
      "cell_type": "code",
      "source": [
        "age = input(\"are you cigarette addict  older then 75 years old:\")\n",
        "chronic = input(\"Do you have a severe chronic disease? yes or no:\")\n",
        "immune=input(\"Is your immune system too weak? yes or no:\")\n",
        "yes=True \n",
        "if (age==\"True\" or chronic==\"True\" and immune ==\"True\"): \n",
        "   print(\"you have a death risk\")     \n",
        "\n",
        "\n",
        "\n",
        " "
      ],
      "metadata": {
        "id": "L05gbz_XbWn8",
        "colab": {
          "base_uri": "https://localhost:8080/"
        },
        "outputId": "6cde308b-f27c-43df-cbd2-52c5a18324bb"
      },
      "execution_count": null,
      "outputs": [
        {
          "name": "stdout",
          "output_type": "stream",
          "text": [
            "are you cigarette addict  older then 75 years old:yes\n",
            "Do you have a severe chronic disease? yes or no:yes\n",
            "Is your immune system too weak? yes or no:yes\n"
          ]
        }
      ]
    },
    {
      "cell_type": "code",
      "source": [
        "\n",
        "numbers = [1, 3, 7, 4, 3, 0, 3, 6, 3]\n",
        "max(numbers, key=numbers.count )\n",
        "numbers.count(max(numbers, key=numbers.count ) )"
      ],
      "metadata": {
        "colab": {
          "base_uri": "https://localhost:8080/"
        },
        "id": "lwxsWbH-q8uy",
        "outputId": "eb8c6c66-24c3-45a9-d95d-f4a8552490a0"
      },
      "execution_count": null,
      "outputs": [
        {
          "output_type": "execute_result",
          "data": {
            "text/plain": [
              "4"
            ]
          },
          "metadata": {},
          "execution_count": 7
        }
      ]
    },
    {
      "cell_type": "code",
      "source": [
        "a = list()\n",
        "for i in range(1,11):\n",
        "    a.append(i)\n",
        "    a.sort(reverse=True)\n",
        "print(a)"
      ],
      "metadata": {
        "colab": {
          "base_uri": "https://localhost:8080/"
        },
        "id": "I1FMi3s4q854",
        "outputId": "a402e04e-1e2b-4b2f-f65d-ace955b64006"
      },
      "execution_count": null,
      "outputs": [
        {
          "output_type": "stream",
          "name": "stdout",
          "text": [
            "[10, 9, 8, 7, 6, 5, 4, 3, 2, 1]\n"
          ]
        }
      ]
    },
    {
      "cell_type": "code",
      "source": [
        "num = int(input('enter a number:'))\n",
        "if num %2 == 0 :\n",
        "   print('{}is even'.format(num))\n",
        "else : \n",
        "  print('is odd'.format (num))  "
      ],
      "metadata": {
        "id": "HV2X4UB-q89_",
        "colab": {
          "base_uri": "https://localhost:8080/"
        },
        "outputId": "884e3a61-71eb-4785-c232-68edc7b5f92b"
      },
      "execution_count": null,
      "outputs": [
        {
          "output_type": "stream",
          "name": "stdout",
          "text": [
            "enter a number:-11\n",
            "is odd\n"
          ]
        }
      ]
    },
    {
      "cell_type": "code",
      "source": [
        "num = float(input('enter a number :'))\n",
        "if num > 0 :\n",
        "  print('it is a positive number')\n",
        "else  :\n",
        "  print('negative number')  \n"
      ],
      "metadata": {
        "id": "B0dxOh0Qq9BS",
        "colab": {
          "base_uri": "https://localhost:8080/"
        },
        "outputId": "9a80f910-31d2-43a6-877a-5e0e6ceed08b"
      },
      "execution_count": null,
      "outputs": [
        {
          "output_type": "stream",
          "name": "stdout",
          "text": [
            "enter a number :5\n",
            "it is a positive number\n"
          ]
        }
      ]
    },
    {
      "cell_type": "code",
      "source": [
        "num1 = int(input('write a number :'))\n",
        "num2 = int(input ('write a number :'))\n",
        "if num1 > num2 :\n",
        "   larger= num1\n",
        "else  :\n",
        "   larger =num2\n",
        "   print('the larger number is :',larger)\n"
      ],
      "metadata": {
        "id": "MIOSXo6Cq9Ej"
      },
      "execution_count": null,
      "outputs": []
    },
    {
      "cell_type": "code",
      "source": [
        "num1 = int(input('write a number :'))\n",
        "num2 = int(input ('write a number :'))\n",
        "if num1 > num2 :\n",
        "   larger= num1 \n",
        "else  :\n",
        "   larger =num2\n",
        "   print('the larger number is :',larger)"
      ],
      "metadata": {
        "id": "bPbB4T5rq9IH"
      },
      "execution_count": null,
      "outputs": []
    },
    {
      "cell_type": "code",
      "source": [
        "bool_value = True\n",
        "\n",
        "if bool_value : \n",
        "  print('yes')\n",
        "else :\n",
        "  print('no')  \n"
      ],
      "metadata": {
        "id": "MuxW0JCwq9Nz",
        "colab": {
          "base_uri": "https://localhost:8080/"
        },
        "outputId": "697cd7c0-db1b-490d-ae15-47f536360d0a"
      },
      "execution_count": null,
      "outputs": [
        {
          "output_type": "stream",
          "name": "stdout",
          "text": [
            "yes\n"
          ]
        }
      ]
    },
    {
      "cell_type": "code",
      "source": [
        "largest1=int(input('bir sayi giriniz :'))\n",
        "largest2=int(input('bir sayi giriniz :'))\n",
        "largest3=int(input('bir sayi giriniz :'))\n",
        "\n",
        "if (largest1>=largest2) and (largest1 >= largest3) :\n",
        "   num= largest1\n",
        "elif (largest2>=largest1) and (largest2 >= largest3) :\n",
        "   num= largest2\n",
        "\n",
        "else  :\n",
        "  num= largest3\n",
        "  print('the largest number: num ')"
      ],
      "metadata": {
        "id": "jmB8GxEDq9Rv"
      },
      "execution_count": null,
      "outputs": []
    },
    {
      "cell_type": "code",
      "source": [
        ""
      ],
      "metadata": {
        "id": "bGb_ffWPJzxM"
      },
      "execution_count": null,
      "outputs": []
    },
    {
      "cell_type": "code",
      "source": [
        "score= float(input('write a your score:'))\n",
        "\n",
        "if  score >= 90:\n",
        "     if score >= 95 :\n",
        "       score_letter='A+'\n",
        "     else :\n",
        "       score_letter= 'A'\n",
        "elif score >=80 :\n",
        "     if score >= 85 :\n",
        "         score_letter= 'B'\n",
        "     else:\n",
        "       score_letter='B'  \n",
        "\n",
        "else :\n",
        "   score_letter= 'Belov B'        \n",
        "print('your degree :%s ' % score_letter)   \n",
        "\n",
        "   \n",
        " "
      ],
      "metadata": {
        "colab": {
          "base_uri": "https://localhost:8080/"
        },
        "id": "BIiq4aIHJz1l",
        "outputId": "f03bd76a-7869-4fb8-8d41-8cd8ac8ca7fc"
      },
      "execution_count": null,
      "outputs": [
        {
          "output_type": "stream",
          "name": "stdout",
          "text": [
            "write a your score:50\n",
            "your degree :Belov B \n"
          ]
        }
      ]
    },
    {
      "cell_type": "code",
      "source": [
        "Task : Find out if the given word is \"comfortable words\" in relation to the ten-finger keyboard use.\n",
        "A comfortable word is a word which you can type always alternating the hand you type with (assuming you type using a Q-keyboard and use of the ten-fingers standard).\n",
        "The word will always be a string consisting of only letters from a to z.\n",
        "Write a program which returns True if it's a comfortable word or False otherwise.\n",
        " \n",
        "left=set('gwersdtfax')\n",
        "print(left)\n",
        "\n",
        "\n",
        "\n",
        "\n",
        "\n",
        "\n",
        "\n"
      ],
      "metadata": {
        "id": "M7aIgiE3Jz5K"
      },
      "execution_count": null,
      "outputs": []
    },
    {
      "cell_type": "code",
      "source": [
        "left_hand = set(\"zxcvbasdfgqwert\")\n",
        "right_hand = set(\"nmöçhjklşiyuıopğü\")\n",
        "\n",
        "entered_word = input(\"please enter a word: \")\n",
        "entered_word_set = set(entered_word)\n",
        "\n",
        "right_intresctn = entered_word_set.intersection(right_hand)\n",
        "left_intersctn = entered_word_set.intersection(left_hand)\n",
        "\n",
        "result = bool(right_intresctn and left_intersctn)\n",
        "print(result)\n"
      ],
      "metadata": {
        "id": "dnBDR5QEJz8a"
      },
      "execution_count": null,
      "outputs": []
    },
    {
      "cell_type": "code",
      "source": [
        "date1 = set\"02/21/2022\")\n",
        "date2= set(\"02/21/2022\")\n",
        "\n",
        "print(date1)\n"
      ],
      "metadata": {
        "colab": {
          "base_uri": "https://localhost:8080/",
          "height": 130
        },
        "id": "79XTlw55Jz_b",
        "outputId": "d71fff0f-c584-45c5-b836-1a3bc8e4b6e5"
      },
      "execution_count": null,
      "outputs": [
        {
          "output_type": "error",
          "ename": "SyntaxError",
          "evalue": "ignored",
          "traceback": [
            "\u001b[0;36m  File \u001b[0;32m\"<ipython-input-4-26a01b1c06cd>\"\u001b[0;36m, line \u001b[0;32m1\u001b[0m\n\u001b[0;31m    date1 = set\"02/21/2022\")\u001b[0m\n\u001b[0m                          ^\u001b[0m\n\u001b[0;31mSyntaxError\u001b[0m\u001b[0;31m:\u001b[0m invalid syntax\n"
          ]
        }
      ]
    },
    {
      "cell_type": "code",
      "source": [
        ""
      ],
      "metadata": {
        "id": "Wz-_un6XJ0HL"
      },
      "execution_count": null,
      "outputs": []
    },
    {
      "cell_type": "code",
      "source": [
        ""
      ],
      "metadata": {
        "id": "J_yQX_7nq9Vo"
      },
      "execution_count": null,
      "outputs": []
    },
    {
      "cell_type": "code",
      "source": [
        "age = input(\"Are you a cigarette addict older than 75 years old (yes / no)\").lower().split()\n",
        "chronic = input (\"Do you have a severe chronic disease? (yes / no)\").lower().split()\n",
        "immune = input(\"Is your immune system too weak?(yes/no\").lower().split()\n",
        "if (age ==\"yes\" and chronic == \"yes\") or (chronic == \"yes\" and immune == \"yes\") or (immune == \"yes\" and age ==\"yes\") :\n",
        "  print(\"you are risky group\")\n",
        "else:\n",
        "  print(\"yo are not risky group\" )"
      ],
      "metadata": {
        "colab": {
          "base_uri": "https://localhost:8080/"
        },
        "id": "j9BpZgAiwn1L",
        "outputId": "3e8eec60-1566-48cd-c413-4f7f6ee99392"
      },
      "execution_count": null,
      "outputs": [
        {
          "output_type": "stream",
          "name": "stdout",
          "text": [
            "Are you a cigarette addict older than 75 years old (yes / no)yes\n",
            "Do you have a severe chronic disease? (yes / no)yes\n",
            "Is your immune system too weak?(yes/noyes\n",
            "yo are not risky group\n"
          ]
        }
      ]
    },
    {
      "cell_type": "code",
      "source": [
        "list =list(range(1,10)  )\n",
        "print(list)"
      ],
      "metadata": {
        "id": "V-iIXsmMwn4q",
        "colab": {
          "base_uri": "https://localhost:8080/",
          "height": 183
        },
        "outputId": "9343be1c-7e7d-409b-fc49-100fec6004b4"
      },
      "execution_count": null,
      "outputs": [
        {
          "output_type": "error",
          "ename": "TypeError",
          "evalue": "ignored",
          "traceback": [
            "\u001b[0;31m---------------------------------------------------------------------------\u001b[0m",
            "\u001b[0;31mTypeError\u001b[0m                                 Traceback (most recent call last)",
            "\u001b[0;32m<ipython-input-18-60bc871e269b>\u001b[0m in \u001b[0;36m<module>\u001b[0;34m()\u001b[0m\n\u001b[0;32m----> 1\u001b[0;31m \u001b[0mlist\u001b[0m \u001b[0;34m=\u001b[0m\u001b[0mlist\u001b[0m\u001b[0;34m(\u001b[0m\u001b[0mrange\u001b[0m\u001b[0;34m(\u001b[0m\u001b[0;36m1\u001b[0m\u001b[0;34m,\u001b[0m\u001b[0;36m10\u001b[0m\u001b[0;34m)\u001b[0m  \u001b[0;34m)\u001b[0m\u001b[0;34m\u001b[0m\u001b[0;34m\u001b[0m\u001b[0m\n\u001b[0m\u001b[1;32m      2\u001b[0m \u001b[0mprint\u001b[0m\u001b[0;34m(\u001b[0m\u001b[0mlist\u001b[0m\u001b[0;34m)\u001b[0m\u001b[0;34m\u001b[0m\u001b[0;34m\u001b[0m\u001b[0m\n",
            "\u001b[0;31mTypeError\u001b[0m: 'range' object is not callable"
          ]
        }
      ]
    },
    {
      "cell_type": "code",
      "source": [
        "sayilar=range(1,11)\n",
        "print(sayilar)\n",
        "      "
      ],
      "metadata": {
        "id": "h3TWj0pjwn7Z",
        "colab": {
          "base_uri": "https://localhost:8080/"
        },
        "outputId": "b7ec1180-565d-4b84-8c18-92dcc06d30df"
      },
      "execution_count": null,
      "outputs": [
        {
          "output_type": "stream",
          "name": "stdout",
          "text": [
            "range(1, 11)\n"
          ]
        }
      ]
    },
    {
      "cell_type": "code",
      "source": [
        "Which of the following/followings are true? (Write the number/numbers in order and separate multiple answers with a comma)\n",
        "\n",
        "1) The for loop only works with iterable objects.\n",
        "2) A for loop in range(1, 5) will make 5 iteration.\n",
        "3) In the nested loop the inner loop is executed first.\n",
        "4) Nested loops work with any type of outer and inner loops."
      ],
      "metadata": {
        "id": "7Ky96J5iwn-R"
      },
      "execution_count": null,
      "outputs": []
    },
    {
      "cell_type": "code",
      "source": [
        "a = 3\n",
        "while a**2 < 299:\n",
        "    print('I will stop smoking')\n",
        "    a += 3"
      ],
      "metadata": {
        "id": "x6HpHComwoBK",
        "colab": {
          "base_uri": "https://localhost:8080/"
        },
        "outputId": "8d3e62b5-876a-48e2-e6e5-806b99d3496b"
      },
      "execution_count": null,
      "outputs": [
        {
          "output_type": "stream",
          "name": "stdout",
          "text": [
            "I will stop smoking\n",
            "I will stop smoking\n",
            "I will stop smoking\n",
            "I will stop smoking\n",
            "I will stop smoking\n"
          ]
        }
      ]
    },
    {
      "cell_type": "code",
      "source": [
        "Is your immune system too weak?"
      ],
      "metadata": {
        "id": "ycAjaB_R4HZ3"
      },
      "execution_count": null,
      "outputs": []
    },
    {
      "cell_type": "code",
      "source": [
        "#year % 4 ==0 true\n",
        "#year %400 ==0 true\n",
        "#year %100  !=o false\n",
        "#leap year check\n",
        "\n",
        "year=int(input,(\"enter a year\")\n",
        "if year % 4 !=0\n",
        "   print(year, \"is a Leap Year\")\n"
      ],
      "metadata": {
        "colab": {
          "base_uri": "https://localhost:8080/",
          "height": 131
        },
        "id": "pD_zFajwPfjC",
        "outputId": "417f0bcd-3921-4bc5-b971-2e2da0f79a54"
      },
      "execution_count": null,
      "outputs": [
        {
          "output_type": "error",
          "ename": "SyntaxError",
          "evalue": "ignored",
          "traceback": [
            "\u001b[0;36m  File \u001b[0;32m\"<ipython-input-7-5dcd5ffd128b>\"\u001b[0;36m, line \u001b[0;32m8\u001b[0m\n\u001b[0;31m    print ({0}, \" is a leap year\")\u001b[0m\n\u001b[0m        ^\u001b[0m\n\u001b[0;31mSyntaxError\u001b[0m\u001b[0;31m:\u001b[0m invalid syntax\n"
          ]
        }
      ]
    },
    {
      "cell_type": "code",
      "source": [
        "fruits = ['apple', 'banana', 'watermelon', 'orange', 'mango', 'avocado']\n",
        "\n",
        "fruit_list = []\n",
        "fruit_list.insert(0, fruits)\n",
        "print(fruit_list[0][2][7])\n",
        "#print= fruit_list\n",
        "\n",
        "\n",
        "\n",
        "\n"
      ],
      "metadata": {
        "id": "88LEHtFhPfnM"
      },
      "execution_count": null,
      "outputs": []
    },
    {
      "cell_type": "code",
      "source": [
        "sayi=int(input(' sayi gir:'))\n",
        "if sayi < 0:\n",
        "    print(\"bu sayi negatiftir\")\n",
        "elif sayi >0:\n",
        "    print(\"bu sayi pozitiftir\")\n",
        "else:\n",
        "    print(\"bu sayi sifirdir\")"
      ],
      "metadata": {
        "id": "jmG2OXsRPfra",
        "colab": {
          "base_uri": "https://localhost:8080/"
        },
        "outputId": "8f9c9d39-4676-4ee1-d1d2-a32f945bf5dc"
      },
      "execution_count": null,
      "outputs": [
        {
          "output_type": "stream",
          "name": "stdout",
          "text": [
            " sayi gir:-8\n",
            "bu sayi negatiftir\n"
          ]
        }
      ]
    },
    {
      "cell_type": "code",
      "source": [
        "sinav_ort=float(input(\"not gir:\"))\n",
        "sinav_ort=round(sinav_ort)\n",
        "\n",
        "if sinav_ort >=50:\n",
        "\n",
        "     print(\"gecti\")\n",
        "else:\n",
        "     print(\"kaldi\")"
      ],
      "metadata": {
        "id": "LKksUw8hPfu9",
        "colab": {
          "base_uri": "https://localhost:8080/"
        },
        "outputId": "b317b5b2-2ecd-4b56-de2d-271b8bc6c689"
      },
      "execution_count": null,
      "outputs": [
        {
          "output_type": "stream",
          "name": "stdout",
          "text": [
            "not gir:49.6\n",
            "gecti\n"
          ]
        }
      ]
    },
    {
      "cell_type": "code",
      "source": [
        "sayi1=int(input(\"sayi gir:\"))\n",
        "sayi2=int(input(\"sayi gir:\"))\n",
        "if  sayi1 > sayi2:\n",
        "    print(\"sayi1 buyuktur\")\n",
        "elif  sayi1<sayi2:\n",
        "    print(\"sayi2 buyuktur\")\n",
        "else:\n",
        "    print(\"bu sayilar esittir\")"
      ],
      "metadata": {
        "id": "T_6HD86wPfyR"
      },
      "execution_count": null,
      "outputs": []
    },
    {
      "cell_type": "code",
      "source": [
        "sayi1=int(input(\"sayi gir:\"))\n",
        "sayi2=int(input(\"sayi gir:\"))\n",
        "if  sayi1 > sayi2:\n",
        "    print(\"sayi1 buyuktur\")\n",
        "if  sayi1<sayi2:\n",
        "    print(\"sayi2 buyuktur\")\n",
        "if sayi1==sayi2:\n",
        "    print(\"bu sayilar esittir\")"
      ],
      "metadata": {
        "id": "3UtYciykPf1d"
      },
      "execution_count": null,
      "outputs": []
    },
    {
      "cell_type": "code",
      "source": [
        "\n",
        "sayi=int(input(' sayi gir:'))\n",
        "if sayi < 0:\n",
        "    print(\"bu sayi negatiftir\")\n",
        "elif sayi >0:\n",
        "    print(\"bu sayi pozitiftir\")\n",
        "else:\n",
        "    print(\"bu sayi sifirdir\") \n",
        "\n",
        "\n",
        "sinav_ort=float(input(\"not gir:\"))\n",
        "if sinav_ort >=50:\n",
        "     print(\"gecti\")\n",
        "else:\n",
        "     print(\"kaldi\")\n",
        " \n",
        "sayi1=int(input(\"sayi gir:\"))\n",
        "sayi2=int(input(\"sayi gir:\"))\n",
        "if  sayi1 > sayi2:\n",
        "    print(\"sayi1 buyuktur\")\n",
        "if  sayi1<sayi2:\n",
        "    print(\"sayi2 buyuktur\")\n",
        "if sayi1==sayi2:\n",
        "    print(\"bu sayilar esittir\")\n",
        "bu yanlis\n",
        "sayi1=12\n",
        "sayi2=60\n",
        "toplam=0\n",
        "if sayi1<=sayi2: \n",
        "if sayi1 % 2==0: \n",
        "if sayi1=sayi2: \n",
        "toplam=(sayi1+sayi2)\n",
        "      print(toplam)\n",
        "#120\n",
        "  else:\n",
        "      print(toplam=sayi2-sayi1)\n",
        "\n",
        "toplam+=toplam\n",
        "       print(toplam)\n",
        "6.soru da ona bagli\n",
        "\n",
        "#sayi=input(range(1,5):\n",
        "sayi=range(1,5)\n",
        "mevsimler={\"ilkbahar\":\"1\",\n",
        "       \"yaz\":\"2\",\n",
        "       \"sonbahar\":\"3\",\n",
        "       \"kis\":\"4\"\n",
        "       }\n",
        "print(mevsimler.keys())\n",
        "\n",
        "#print(mevsimler.values())\n",
        "\n",
        "#soruda bizden key degerlerini istiyor. istersek \n",
        "#value leri de bastirabiliriz.\n",
        "\n",
        "a=input(\"a:\")\n",
        "b=input(\"b:\")\n",
        "c=input(\"c:\")\n",
        "d=input(\"d:\")\n",
        "if a==b==c==d:\n",
        "  print(\"bu sekil bir karedir\")\n",
        "else:\n",
        "  print(\"bu sekil bir dikdortgen veya coklu dortgendir\")\n",
        "''' \n",
        "    \n",
        "a=input(\"a:\")\n",
        "b=input(\"b:\")\n",
        "c=input(\"c:\")\n",
        "\n",
        "if a==b==c:\n",
        "   print(\"bu sekil bir es kenar ucgendir\")\n",
        "elif (a==b) and (b!=c):\n",
        "   print(\"bu sekil bir ikiz kenar ucgendir\")\n",
        "elif (a!=b) and (b==c):\n",
        "   print(\"bu sekil bir ikiz kenar ucgendir\")\n",
        "elif(a!=b) and (a==c):\n",
        "   print(\"bu sekil bir ikiz kenar ucgendir\")   \n",
        "else:\n",
        "   a=print(\"bu sekil bir cesit kenar ucgendir\")"
      ],
      "metadata": {
        "id": "BN8t_Ut1Pf4l"
      },
      "execution_count": null,
      "outputs": []
    },
    {
      "cell_type": "code",
      "source": [
        "bmi=kilo / (boy**2)\n",
        "boy =input(\"boy:\")\n",
        "kilo =input(\"kilo:\")\n",
        "print(bmi)\n",
        "\n",
        "if bmi <18.5:\n",
        "    print(\"zayifsin\")\n",
        "elif bmi<=25:\n",
        "    print(\"normalsin\")\n",
        "elif bmi<=30 and bmi >25: \n",
        "    print(\"obezsiniz\")\n",
        "elif bmi>25:\n",
        "    print(\"obezsiniz\")"
      ],
      "metadata": {
        "id": "z7PVvqRBLuhK"
      },
      "execution_count": null,
      "outputs": []
    },
    {
      "cell_type": "code",
      "source": [
        "sozluk1 = {\n",
        "    'c1': 'BMW',\n",
        "    'c2': 'Mercedes',\n",
        "    'c3': 'Audi',\n",
        "    'c4': 'Volvo'\n",
        "}\n",
        "result = sozluk1.get('c4')\n",
        "print(result)"
      ],
      "metadata": {
        "colab": {
          "base_uri": "https://localhost:8080/"
        },
        "id": "2iuB-uBjLumC",
        "outputId": "67775fc2-7039-45ba-d979-9392e314904a"
      },
      "execution_count": null,
      "outputs": [
        {
          "output_type": "stream",
          "name": "stdout",
          "text": [
            "Volvo\n"
          ]
        }
      ]
    },
    {
      "cell_type": "code",
      "source": [
        "Ad = input('adinizi giriniz:')\n",
        "if Ad == \"yusuf\": \n",
        "  print('merhaba yusuf! sifre:W@12')\n",
        "elif Ad != 'yusuf':\n",
        "  print(\"merhaba Amina sonra gorusuruz\")"
      ],
      "metadata": {
        "colab": {
          "base_uri": "https://localhost:8080/"
        },
        "id": "0JiF5w0VLusH",
        "outputId": "e85114e5-9c9d-47d1-9d14-9bc39722809b"
      },
      "execution_count": null,
      "outputs": [
        {
          "output_type": "stream",
          "name": "stdout",
          "text": [
            "adinizi giriniz:ali\n",
            "merhaba Amina sonra gorusuruz\n"
          ]
        }
      ]
    },
    {
      "cell_type": "code",
      "source": [
        ""
      ],
      "metadata": {
        "id": "VrVG3UrWPf7F"
      },
      "execution_count": null,
      "outputs": []
    },
    {
      "cell_type": "code",
      "source": [
        ""
      ],
      "metadata": {
        "id": "dA65jiBTPf_I"
      },
      "execution_count": null,
      "outputs": []
    },
    {
      "cell_type": "code",
      "source": [
        " basket= {'carnation', 'orchid', 'rose', 'violet'}\n",
        " basket_1= set(basket)\n",
        " print(basket_1)\n",
        " basket_2 = list(basket)\n",
        " print(basket_2)\n",
        " "
      ],
      "metadata": {
        "id": "3H43RPin9Jgg"
      },
      "execution_count": null,
      "outputs": []
    },
    {
      "cell_type": "code",
      "source": [
        "print(len(set('listen to the voice of enlisted')))"
      ],
      "metadata": {
        "id": "mgLQzSx_9JkN",
        "colab": {
          "base_uri": "https://localhost:8080/"
        },
        "outputId": "a8d83c28-964a-41f5-9fa7-d6bd93663dc9"
      },
      "execution_count": null,
      "outputs": [
        {
          "output_type": "stream",
          "name": "stdout",
          "text": [
            "13\n"
          ]
        }
      ]
    },
    {
      "cell_type": "code",
      "source": [
        "my_number1=[1, 19, 3, 6, ]\n",
        "my_number2=[8, 6, 4, ]\n",
        "my_number3=(my_number1 + my_number2)\n",
        "print(my_number3)\n",
        "my_number3.sort()\n",
        "\n",
        "#my_number1.sort()\n",
        "#print(my_number1)"
      ],
      "metadata": {
        "colab": {
          "base_uri": "https://localhost:8080/"
        },
        "id": "2RI1eQ37EHOM",
        "outputId": "78b80a38-e19a-43f1-8391-f2c187fdfb75"
      },
      "execution_count": null,
      "outputs": [
        {
          "output_type": "stream",
          "name": "stdout",
          "text": [
            "[1, 19, 3, 6, 8, 6, 4]\n"
          ]
        }
      ]
    },
    {
      "cell_type": "code",
      "source": [
        "numbers = {}\n",
        "\n",
        "numbers['x'] = 12\n",
        "numbers['y'] = 4\n",
        "numbers.update({'z': 3})\n",
        "\n",
        "print(numbers['x'] + numbers['y'] + numbers['z']**2)\n",
        "\n"
      ],
      "metadata": {
        "colab": {
          "base_uri": "https://localhost:8080/"
        },
        "id": "Amv1_Oy6EHW0",
        "outputId": "b23da3f7-6fec-4c67-a041-6a1dd2bbdb59"
      },
      "execution_count": null,
      "outputs": [
        {
          "output_type": "stream",
          "name": "stdout",
          "text": [
            "25\n"
          ]
        }
      ]
    },
    {
      "cell_type": "code",
      "source": [
        "fruits_vegetables = [\"fruit\", \"vegetable\", [\"apple\", \"banana\", [\"mango\", \"avocado\"]], [\"spinach\", \"broccoli\"]]\n",
        "print(fruits_vegetables[0])\n"
      ],
      "metadata": {
        "colab": {
          "base_uri": "https://localhost:8080/"
        },
        "id": "JXKBKUwtEHbI",
        "outputId": "b4786088-0ebb-4ae2-9b5b-16e9f07d7807"
      },
      "execution_count": null,
      "outputs": [
        {
          "output_type": "stream",
          "name": "stdout",
          "text": [
            "fruit\n"
          ]
        }
      ]
    },
    {
      "cell_type": "code",
      "source": [
        "my_list=[1,2,3,4,5,]\n",
        "new_list= []\n",
        "print(new_list)\n",
        "\n",
        "for * in my_list:\n",
        "  if * % 2 !=0:\n",
        "  new_list.append(x**2)\n",
        "print(new_list)\n"
      ],
      "metadata": {
        "colab": {
          "base_uri": "https://localhost:8080/",
          "height": 131
        },
        "id": "0-UYgf4LEHew",
        "outputId": "e243799b-153f-4abc-cbef-fb6d8dea9a4c"
      },
      "execution_count": null,
      "outputs": [
        {
          "output_type": "error",
          "ename": "SyntaxError",
          "evalue": "ignored",
          "traceback": [
            "\u001b[0;36m  File \u001b[0;32m\"<ipython-input-6-f972d92d1f68>\"\u001b[0;36m, line \u001b[0;32m5\u001b[0m\n\u001b[0;31m    for * in my_list:\u001b[0m\n\u001b[0m           ^\u001b[0m\n\u001b[0;31mSyntaxError\u001b[0m\u001b[0;31m:\u001b[0m invalid syntax\n"
          ]
        }
      ]
    },
    {
      "cell_type": "code",
      "source": [
        "list=['bir','iki','uc','alti', 'dort']\n",
        "list.sort()\n",
        "print(list)"
      ],
      "metadata": {
        "id": "Ee6zno4_M_Zn",
        "colab": {
          "base_uri": "https://localhost:8080/"
        },
        "outputId": "e583f805-84a4-4ec7-c79c-77767c428a9f"
      },
      "execution_count": null,
      "outputs": [
        {
          "output_type": "stream",
          "name": "stdout",
          "text": [
            "['alti', 'bir', 'dort', 'iki', 'uc']\n"
          ]
        }
      ]
    },
    {
      "cell_type": "code",
      "source": [
        "globals()['z'] = 23\n",
        "\n",
        "print(z)\n",
        "print(dir{})\n",
        "print(dir\"\")"
      ],
      "metadata": {
        "id": "35riVtONM_dP",
        "colab": {
          "base_uri": "https://localhost:8080/",
          "height": 131
        },
        "outputId": "9c0b0d41-2fea-40f0-9bc8-ef3ffea41bbb"
      },
      "execution_count": null,
      "outputs": [
        {
          "output_type": "error",
          "ename": "SyntaxError",
          "evalue": "ignored",
          "traceback": [
            "\u001b[0;36m  File \u001b[0;32m\"<ipython-input-41-37eb862a0d10>\"\u001b[0;36m, line \u001b[0;32m4\u001b[0m\n\u001b[0;31m    print(dir{})\u001b[0m\n\u001b[0m             ^\u001b[0m\n\u001b[0;31mSyntaxError\u001b[0m\u001b[0;31m:\u001b[0m invalid syntax\n"
          ]
        }
      ]
    },
    {
      "cell_type": "code",
      "source": [
        "a =\"elif\"\n",
        "id(a)"
      ],
      "metadata": {
        "id": "9obAhjMCM_gZ",
        "colab": {
          "base_uri": "https://localhost:8080/"
        },
        "outputId": "2f72815a-833a-47f1-8fd2-c8f98a8feb46"
      },
      "execution_count": null,
      "outputs": [
        {
          "output_type": "execute_result",
          "data": {
            "text/plain": [
              "140717572477360"
            ]
          },
          "metadata": {},
          "execution_count": 48
        }
      ]
    },
    {
      "cell_type": "code",
      "source": [
        "azmi = [400, 176, 64, 175, 355, 13, 207, 298, 397,\n",
        "386, 31, 120, 120, 236, 241, 123, 249, 364, 292,\n",
        "153, 15, 11, 9,]\n",
        "for a in azmi:\n",
        "    if a % 2 == 1:\n",
        "        print(a)"
      ],
      "metadata": {
        "id": "s00jgsZBM_jS",
        "colab": {
          "base_uri": "https://localhost:8080/"
        },
        "outputId": "eadfc0db-de14-4687-875d-4f258a58cabd"
      },
      "execution_count": null,
      "outputs": [
        {
          "output_type": "stream",
          "name": "stdout",
          "text": [
            "175\n",
            "355\n",
            "13\n",
            "207\n",
            "397\n",
            "31\n",
            "241\n",
            "123\n",
            "249\n",
            "153\n",
            "15\n",
            "11\n",
            "9\n"
          ]
        }
      ]
    },
    {
      "cell_type": "code",
      "source": [
        "isim=\"Mustafa\"\n",
        "a=0\n",
        "while a<len(isim):\n",
        " print(isim[a], end=\",\")\n",
        " a=a+1"
      ],
      "metadata": {
        "id": "-mfF8j_6M_mG",
        "colab": {
          "base_uri": "https://localhost:8080/"
        },
        "outputId": "af37c4c1-3a52-4e80-b3c7-664a7a7f7b65"
      },
      "execution_count": null,
      "outputs": [
        {
          "output_type": "stream",
          "name": "stdout",
          "text": [
            "M,u,s,t,a,f,a,"
          ]
        }
      ]
    },
    {
      "cell_type": "code",
      "source": [
        "isim=\"Mustafa\"\n",
        "for a in isim:\n",
        " print(a,end=\",\")"
      ],
      "metadata": {
        "id": "dPpltiK5M_o_",
        "colab": {
          "base_uri": "https://localhost:8080/"
        },
        "outputId": "fa03f90c-c88f-4188-e4e1-71385c5b785d"
      },
      "execution_count": null,
      "outputs": [
        {
          "output_type": "stream",
          "name": "stdout",
          "text": [
            "M,u,s,t,a,f,a,"
          ]
        }
      ]
    },
    {
      "cell_type": "code",
      "source": [
        " l = [1, 4, 5, 4, 2, 9, 10]\n",
        "def karesi(n):\n",
        "    return n ** 2\n",
        "\n",
        "list(map(karesi, l))"
      ],
      "metadata": {
        "colab": {
          "base_uri": "https://localhost:8080/"
        },
        "id": "YyCnzM_4xqOQ",
        "outputId": "1f60635c-448b-42a6-cb85-9ba373776bca"
      },
      "execution_count": null,
      "outputs": [
        {
          "output_type": "execute_result",
          "data": {
            "text/plain": [
              "[1, 16, 25, 16, 4, 81, 100]"
            ]
          },
          "metadata": {},
          "execution_count": 4
        }
      ]
    },
    {
      "cell_type": "code",
      "source": [
        ""
      ],
      "metadata": {
        "id": "Yilt1l7SxqRU"
      },
      "execution_count": null,
      "outputs": []
    },
    {
      "cell_type": "code",
      "source": [
        ""
      ],
      "metadata": {
        "id": "KnDlKCI0xqUW"
      },
      "execution_count": null,
      "outputs": []
    },
    {
      "cell_type": "code",
      "source": [
        ""
      ],
      "metadata": {
        "id": "8eXEGCcGxqW_"
      },
      "execution_count": null,
      "outputs": []
    },
    {
      "cell_type": "code",
      "source": [
        ""
      ],
      "metadata": {
        "id": "NbXM_9lqxqZw"
      },
      "execution_count": null,
      "outputs": []
    },
    {
      "cell_type": "code",
      "source": [
        ""
      ],
      "metadata": {
        "id": "J42x94UzEHh9"
      },
      "execution_count": null,
      "outputs": []
    },
    {
      "cell_type": "code",
      "source": [
        "string_1= ' ben eve gidiyorum'\n",
        "nev_list_1= list(string_1)\n",
        "print(nev_list_1)"
      ],
      "metadata": {
        "colab": {
          "base_uri": "https://localhost:8080/"
        },
        "id": "Tw13wa8o9Jqu",
        "outputId": "aef71248-6c26-4869-860b-eb682daeba87"
      },
      "execution_count": null,
      "outputs": [
        {
          "output_type": "stream",
          "name": "stdout",
          "text": [
            "[' ', 'b', 'e', 'n', ' ', 'e', 'v', 'e', ' ', 'g', 'i', 'd', 'i', 'y', 'o', 'r', 'u', 'm']\n"
          ]
        }
      ]
    },
    {
      "cell_type": "code",
      "source": [
        "city=['antalya','ankara','eskisehir']\n",
        "city.append('konya') \n",
        "city.remove('antalya')\n",
        "city.insert(1,'istanbul')\n",
        "print(city)\n",
        "\n"
      ],
      "metadata": {
        "id": "B95qOz0GLiiE"
      },
      "execution_count": null,
      "outputs": []
    },
    {
      "cell_type": "code",
      "source": [
        "fruits= ['aple','banana','watermelon','orange','mango','avocado']\n",
        "\n",
        "fruit_list=[]\n",
        "fruit_list.insert(0,fruits)\n",
        "\n",
        "print(fruit_list[0][2][7])"
      ],
      "metadata": {
        "colab": {
          "base_uri": "https://localhost:8080/"
        },
        "id": "RtrZmaVdLili",
        "outputId": "5e756639-0d16-4e6d-bf8e-9fc33fc02914"
      },
      "execution_count": null,
      "outputs": [
        {
          "output_type": "stream",
          "name": "stdout",
          "text": [
            "l\n"
          ]
        }
      ]
    },
    {
      "cell_type": "code",
      "source": [
        "print(len([[12,34, 56]]))"
      ],
      "metadata": {
        "colab": {
          "base_uri": "https://localhost:8080/"
        },
        "id": "9zfq-zxgLiqy",
        "outputId": "867870ef-9278-4fdd-a203-6d6ac0f985c2"
      },
      "execution_count": null,
      "outputs": [
        {
          "output_type": "stream",
          "name": "stdout",
          "text": [
            "1\n"
          ]
        }
      ]
    },
    {
      "cell_type": "code",
      "source": [
        ""
      ],
      "metadata": {
        "id": "45Qfl8E0Liws"
      },
      "execution_count": null,
      "outputs": []
    },
    {
      "cell_type": "code",
      "source": [
        "my_list1 = [4, 5, 2, 1]\n",
        "my_list2 = [3, 6, 7, 8, 9, 10]\n",
        "print(my_list1 + my_list2)\n",
        "my_list =(my_list1 + my_list2 )\n",
        "\n",
        "my_list.sort()"
      ],
      "metadata": {
        "id": "2AMUw-zaLiuK",
        "colab": {
          "base_uri": "https://localhost:8080/"
        },
        "outputId": "f95e2f85-01b5-4acb-a7c0-2c7640c5c720"
      },
      "execution_count": null,
      "outputs": [
        {
          "output_type": "stream",
          "name": "stdout",
          "text": [
            "[4, 5, 2, 1, 3, 6, 7, 8, 9, 10]\n"
          ]
        }
      ]
    },
    {
      "cell_type": "code",
      "source": [
        "test = [10, 3, 7, 5]\n",
        "test.sort()\n",
        "print(test)"
      ],
      "metadata": {
        "id": "Xi-FjgfXLizK",
        "colab": {
          "base_uri": "https://localhost:8080/"
        },
        "outputId": "f6d03d73-5800-4618-a578-939022954080"
      },
      "execution_count": null,
      "outputs": [
        {
          "output_type": "stream",
          "name": "stdout",
          "text": [
            "[3, 5, 7, 10]\n"
          ]
        }
      ]
    },
    {
      "cell_type": "code",
      "source": [
        "word=\"clarusway\"\n",
        "n=3\n",
        "frank=\n",
        "back=\n",
        "print(front+back)\n"
      ],
      "metadata": {
        "id": "SSOX2teahJxg",
        "colab": {
          "base_uri": "https://localhost:8080/",
          "height": 130
        },
        "outputId": "2ebcc100-90fe-4a52-fd98-af87b15ee6f8"
      },
      "execution_count": null,
      "outputs": [
        {
          "output_type": "error",
          "ename": "SyntaxError",
          "evalue": "ignored",
          "traceback": [
            "\u001b[0;36m  File \u001b[0;32m\"<ipython-input-3-37f3d4f0ffb8>\"\u001b[0;36m, line \u001b[0;32m3\u001b[0m\n\u001b[0;31m    frank=\u001b[0m\n\u001b[0m          ^\u001b[0m\n\u001b[0;31mSyntaxError\u001b[0m\u001b[0;31m:\u001b[0m invalid syntax\n"
          ]
        }
      ]
    },
    {
      "cell_type": "code",
      "source": [
        ""
      ],
      "metadata": {
        "id": "qKX1kU8yPdmj"
      },
      "execution_count": null,
      "outputs": []
    },
    {
      "cell_type": "code",
      "source": [
        "celcius_1 = float(input(\"value of in the room temperature\" ))\n",
        "fahrenheit_1 =(celcius_1*9/5)+32\n",
        "\n",
        "print(fahrenheit_1)\n"
      ],
      "metadata": {
        "id": "VBHeCb3JKGsm"
      },
      "execution_count": null,
      "outputs": []
    },
    {
      "cell_type": "code",
      "source": [
        "distance_1=int(input(\"write enter the number of kilometres\" ))\n",
        "mile_1= (distance_1)*0.62\n",
        "\n",
        "print(mile_1\n",
        "      )\n"
      ],
      "metadata": {
        "colab": {
          "base_uri": "https://localhost:8080/"
        },
        "id": "RAmrt7J9KGvs",
        "outputId": "adbf7757-b82c-4439-ef61-21e8a442123b"
      },
      "execution_count": null,
      "outputs": [
        {
          "output_type": "stream",
          "name": "stdout",
          "text": [
            "write enter the number of kilometres50\n",
            "31.0\n"
          ]
        }
      ]
    },
    {
      "cell_type": "code",
      "source": [
        ""
      ],
      "metadata": {
        "id": "42Fe2-8-KG2A"
      },
      "execution_count": null,
      "outputs": []
    },
    {
      "cell_type": "code",
      "source": [
        ""
      ],
      "metadata": {
        "id": "yjnGfgLCKG54"
      },
      "execution_count": null,
      "outputs": []
    },
    {
      "cell_type": "code",
      "source": [
        ""
      ],
      "metadata": {
        "id": "nDNDyshSKG9e"
      },
      "execution_count": null,
      "outputs": []
    },
    {
      "cell_type": "code",
      "source": [
        "f = 3.14   # the type is float\n",
        "\n",
        "i= int(f)   # while converting a float value to an integer its decimal part is disregarded\n",
        "\n",
        "print(i, '\\n')\n",
        "print(type (i))\n"
      ],
      "metadata": {
        "id": "tlbO7LxdhJ4J"
      },
      "execution_count": null,
      "outputs": []
    },
    {
      "cell_type": "code",
      "source": [
        "f = 3.14  # the type is float\n",
        "\n",
        "i = int(f)  # while converting a float value to an integer its decimal part is disregarded\n",
        "\n",
        "print(i, '\\n')\n",
        "print(type(i))  \n"
      ],
      "metadata": {
        "id": "rrBH9I3hhJ7N"
      },
      "execution_count": null,
      "outputs": []
    },
    {
      "cell_type": "code",
      "source": [
        "i= 3\n",
        "f= float (i)\n",
        "print(f)\n",
        "print(f , '\\n')\n",
        "\n",
        "print(type(f))"
      ],
      "metadata": {
        "id": "wxrHjsHwhJ9v"
      },
      "execution_count": null,
      "outputs": []
    },
    {
      "cell_type": "code",
      "source": [
        "x= 39\n",
        "v= \"11\"\n",
        "y=\"2.5\"\n",
        "z=\" i love you_\"\n",
        "print(x-int(v))\n",
        "print(x-float(y))\n",
        "print(z+str(x))\n",
        "\n"
      ],
      "metadata": {
        "id": "yaDwylnQhKA3"
      },
      "execution_count": null,
      "outputs": []
    },
    {
      "cell_type": "code",
      "source": [
        "a= 36.5\n",
        "b= '30'\n",
        "c= '3.5'\n",
        "d= 'F is enough  room temperature.'\n",
        "\n",
        "print(str(a+int(b)+float(c))+str(d))"
      ],
      "metadata": {
        "id": "IIfirdPnhKLy"
      },
      "execution_count": null,
      "outputs": []
    },
    {
      "cell_type": "code",
      "source": [
        "first_name ='Ali'  #ali is genel mudur\n",
        "second_name = 'bey'\n",
        "output='hosgeldiniz, {} {} ,nasilsiniz'.format(first_name,second_name)\n",
        "\n",
        "output='hosgeldiniz , {} {}  nasilsiniz'.format('ali', 'bey' )\n",
        "print(output)\n",
        "\n"
      ],
      "metadata": {
        "id": "OuHCkNk_hKR0"
      },
      "execution_count": null,
      "outputs": []
    },
    {
      "cell_type": "code",
      "source": [
        "last_name='Harrison'\n",
        "last_name[::2]"
      ],
      "metadata": {
        "id": "WnoB29kaCaiF"
      },
      "execution_count": null,
      "outputs": []
    },
    {
      "cell_type": "code",
      "source": [
        "text='benim adim mehmet'\n",
        "print(text.capitalize())\n",
        "print(text.upper())\n",
        "print(text.count('e'))\n",
        "\n",
        "print('hell0', text.capitalize())"
      ],
      "metadata": {
        "id": "K8lTc5hfCapM"
      },
      "execution_count": null,
      "outputs": []
    },
    {
      "cell_type": "code",
      "source": [
        "print(int(12)+int(21))"
      ],
      "metadata": {
        "id": "MdbzRcHGCatC"
      },
      "execution_count": null,
      "outputs": []
    },
    {
      "cell_type": "code",
      "source": [
        "number=32\n",
        "print('1988' + str '32')\n",
        "print,type('1988')\n"
      ],
      "metadata": {
        "id": "cBhtDJqhCawp"
      },
      "execution_count": null,
      "outputs": []
    },
    {
      "cell_type": "code",
      "source": [
        "print('www', 'clarusway', \"com\", sep='.', end=' ')\n",
        "print('will', end=' ')\n",
        "print('open', end=' ')\n",
        "print('your', end=' ')\n",
        "print('path', end='.')"
      ],
      "metadata": {
        "id": "vP7SLWHLCa2g",
        "colab": {
          "base_uri": "https://localhost:8080/"
        },
        "outputId": "83c49dd7-a5df-47c6-ed61-54591f2b7c4c"
      },
      "execution_count": null,
      "outputs": [
        {
          "output_type": "stream",
          "name": "stdout",
          "text": [
            "www.clarusway.com will open your path."
          ]
        }
      ]
    },
    {
      "cell_type": "code",
      "source": [
        "number=int(input(\"sayi girin : \" ) )\n",
        "if number>=10 :\n",
        "    print(\"The number is equal or greater than 10\")\n",
        "elif number<10:\n",
        "     print(\"The number is less than 10\")\n"
      ],
      "metadata": {
        "id": "tEHBfZIeCa6g",
        "colab": {
          "base_uri": "https://localhost:8080/"
        },
        "outputId": "977e5ab8-6b08-4170-9281-0c8202b4fc24"
      },
      "execution_count": null,
      "outputs": [
        {
          "output_type": "stream",
          "name": "stdout",
          "text": [
            "sayi girin : 23\n",
            "The number is equal or greater than 10\n"
          ]
        }
      ]
    },
    {
      "cell_type": "code",
      "source": [
        ""
      ],
      "metadata": {
        "id": "dsniwKeiCa-k"
      },
      "execution_count": null,
      "outputs": []
    },
    {
      "cell_type": "code",
      "source": [
        "def my_function(a, b): \n",
        " print(a + b) \n",
        "my_function(3, 5)         \n",
        "           "
      ],
      "metadata": {
        "id": "sZg0QQvKCbBv",
        "colab": {
          "base_uri": "https://localhost:8080/"
        },
        "outputId": "53648182-5901-40f0-d0a3-3ab4e7765bfa"
      },
      "execution_count": null,
      "outputs": [
        {
          "output_type": "stream",
          "name": "stdout",
          "text": [
            "8\n"
          ]
        }
      ]
    },
    {
      "cell_type": "code",
      "source": [
        ""
      ],
      "metadata": {
        "id": "uCm9HpMzCbH7"
      },
      "execution_count": null,
      "outputs": []
    },
    {
      "cell_type": "code",
      "source": [
        ""
      ],
      "metadata": {
        "id": "vIF1w54LhKWB"
      },
      "execution_count": null,
      "outputs": []
    },
    {
      "cell_type": "code",
      "source": [
        "city = ['New York', 'London', 'Stockholm', 'Istanbul', 'Seoul', 'Sydney', 'Addis Ababa']\n",
        "city.remove('London')\n",
        "print(city)  # we have deleted 'London'\n"
      ],
      "metadata": {
        "colab": {
          "base_uri": "https://localhost:8080/"
        },
        "id": "eQhggVZbMqxG",
        "outputId": "c03581b7-3ca3-436b-81da-97de8f104430"
      },
      "execution_count": null,
      "outputs": [
        {
          "output_type": "stream",
          "name": "stdout",
          "text": [
            "['New York', 'Stockholm', 'Istanbul', 'Seoul', 'Sydney', 'Addis Ababa']\n"
          ]
        }
      ]
    },
    {
      "cell_type": "code",
      "source": [
        "date=set(\"02/21/2022\")\n",
        "print(date)"
      ],
      "metadata": {
        "id": "RhIJkBPmMqz5",
        "colab": {
          "base_uri": "https://localhost:8080/"
        },
        "outputId": "72f38dcf-383c-443c-ce0f-149ab8c4f4d2"
      },
      "execution_count": null,
      "outputs": [
        {
          "output_type": "stream",
          "name": "stdout",
          "text": [
            "{'1', '/', '0', '2'}\n"
          ]
        }
      ]
    },
    {
      "cell_type": "code",
      "source": [
        "capital_usa=set(\"washington\")\n",
        "capital_new_zeland=set(\"wellington\")\n",
        "print(set(capital_usa))\n",
        "print(set(capital_new_zeland))\n",
        "print(capital_new_zeland-capital_usa)\n",
        "print(capital_new_zeland&capital_usa)"
      ],
      "metadata": {
        "id": "CxYMgsH8Mq3P",
        "colab": {
          "base_uri": "https://localhost:8080/"
        },
        "outputId": "94d222cf-c82d-46b6-dde6-5956e9cae3dd"
      },
      "execution_count": null,
      "outputs": [
        {
          "output_type": "stream",
          "name": "stdout",
          "text": [
            "{'s', 'o', 'w', 'a', 'h', 'g', 'n', 'i', 't'}\n",
            "{'o', 'w', 'e', 'g', 'n', 'i', 't', 'l'}\n",
            "{'e', 'l'}\n",
            "{'o', 'w', 'g', 'n', 'i', 't'}\n"
          ]
        }
      ]
    },
    {
      "cell_type": "code",
      "source": [
        " #malzemeler \n",
        " minced=True\n",
        " bread=True\n",
        " lettuce=True\n",
        " onion=False\n",
        " grocer=True\n",
        " hamburger= minced and grocer and bread and (lettuce or onion)\n",
        " if hamburger  :\n",
        "   print(\"Bon Appetit\")"
      ],
      "metadata": {
        "id": "mvttJI2HMq53",
        "colab": {
          "base_uri": "https://localhost:8080/"
        },
        "outputId": "438edeac-79c0-4dd5-cae6-14edb6a0ea59"
      },
      "execution_count": null,
      "outputs": [
        {
          "output_type": "stream",
          "name": "stdout",
          "text": [
            "Bon Appetit\n"
          ]
        }
      ]
    },
    {
      "cell_type": "code",
      "source": [
        "set1=set(\"TWELVE PLUS ONE\")\n",
        "set2=set(\"ELEVEN PLUS TWO\")\n",
        "if  set1==set2 :\n",
        "   print('we are the same')"
      ],
      "metadata": {
        "id": "ej4L7CkwMq8M",
        "colab": {
          "base_uri": "https://localhost:8080/"
        },
        "outputId": "331ead41-3506-49d5-b497-736e9239809c"
      },
      "execution_count": null,
      "outputs": [
        {
          "output_type": "stream",
          "name": "stdout",
          "text": [
            "we are the same\n"
          ]
        }
      ]
    },
    {
      "cell_type": "code",
      "source": [
        "convert = input(\"yes or no :\").title().strip() == \"yes\"\n",
        "yes =True\n",
        "\n",
        "    "
      ],
      "metadata": {
        "id": "E7622O-yMq_S",
        "colab": {
          "base_uri": "https://localhost:8080/"
        },
        "outputId": "27d382a6-55e6-4480-bcdc-a55b28474b1c"
      },
      "execution_count": null,
      "outputs": [
        {
          "name": "stdout",
          "output_type": "stream",
          "text": [
            "yes or no :yes\n"
          ]
        }
      ]
    },
    {
      "cell_type": "code",
      "source": [
        "print(f\"You entered{input(' enter yes or no :').title().strip() == 'yes'}\")\n"
      ],
      "metadata": {
        "id": "ggE9-7gKMrFZ",
        "colab": {
          "base_uri": "https://localhost:8080/"
        },
        "outputId": "6d5a098d-9636-4ecc-d6de-424b91cee833"
      },
      "execution_count": null,
      "outputs": [
        {
          "output_type": "stream",
          "name": "stdout",
          "text": [
            " enter yes or no :yes\n",
            "You enteredFalse\n"
          ]
        }
      ]
    },
    {
      "cell_type": "code",
      "source": [
        "type(convert)"
      ],
      "metadata": {
        "id": "TgPLaUppYb45",
        "colab": {
          "base_uri": "https://localhost:8080/"
        },
        "outputId": "8d84322e-e89b-42ad-e336-e2f381745b8f"
      },
      "execution_count": null,
      "outputs": [
        {
          "output_type": "execute_result",
          "data": {
            "text/plain": [
              "bool"
            ]
          },
          "metadata": {},
          "execution_count": 46
        }
      ]
    },
    {
      "cell_type": "markdown",
      "source": [
        "# New Section"
      ],
      "metadata": {
        "id": "ZGpGHhmQmJ8d"
      }
    },
    {
      "cell_type": "code",
      "source": [
        "n= int(input('enter a number between 1-10'))\n",
        "\n",
        "for i in range(1, 11):\n",
        "  print('{}*{} = '.format(n, i), n*i)"
      ],
      "metadata": {
        "colab": {
          "base_uri": "https://localhost:8080/",
          "height": 224
        },
        "id": "0FI5uHjD8w_v",
        "outputId": "cf98ce2b-114d-4262-8ee2-8cce5c568d35"
      },
      "execution_count": null,
      "outputs": [
        {
          "name": "stdout",
          "output_type": "stream",
          "text": [
            "enter a number between 1-105\n"
          ]
        },
        {
          "output_type": "error",
          "ename": "IndexError",
          "evalue": "ignored",
          "traceback": [
            "\u001b[0;31m---------------------------------------------------------------------------\u001b[0m",
            "\u001b[0;31mIndexError\u001b[0m                                Traceback (most recent call last)",
            "\u001b[0;32m<ipython-input-2-e0654db087e7>\u001b[0m in \u001b[0;36m<module>\u001b[0;34m()\u001b[0m\n\u001b[1;32m      2\u001b[0m \u001b[0;34m\u001b[0m\u001b[0m\n\u001b[1;32m      3\u001b[0m \u001b[0;32mfor\u001b[0m \u001b[0mi\u001b[0m \u001b[0;32min\u001b[0m \u001b[0mrange\u001b[0m\u001b[0;34m(\u001b[0m\u001b[0;36m1\u001b[0m\u001b[0;34m,\u001b[0m \u001b[0;36m11\u001b[0m\u001b[0;34m)\u001b[0m\u001b[0;34m:\u001b[0m\u001b[0;34m\u001b[0m\u001b[0;34m\u001b[0m\u001b[0m\n\u001b[0;32m----> 4\u001b[0;31m   \u001b[0mprint\u001b[0m\u001b[0;34m(\u001b[0m\u001b[0;34m'{}*{} = '\u001b[0m\u001b[0;34m.\u001b[0m\u001b[0mformat\u001b[0m\u001b[0;34m(\u001b[0m \u001b[0mi\u001b[0m\u001b[0;34m)\u001b[0m\u001b[0;34m,\u001b[0m \u001b[0mn\u001b[0m\u001b[0;34m*\u001b[0m\u001b[0mi\u001b[0m\u001b[0;34m)\u001b[0m\u001b[0;34m\u001b[0m\u001b[0;34m\u001b[0m\u001b[0m\n\u001b[0m",
            "\u001b[0;31mIndexError\u001b[0m: tuple index out of range"
          ]
        }
      ]
    },
    {
      "cell_type": "code",
      "source": [
        ""
      ],
      "metadata": {
        "id": "VJ330ODAApE5"
      },
      "execution_count": null,
      "outputs": []
    },
    {
      "cell_type": "code",
      "source": [
        "start_numb=int(input('enter a start number'))\n",
        "stop_numb= int(input('enter a stop number'))\n",
        "for i in range(start_numb, stop_numb+1) :\n",
        "     print(i*str(i))"
      ],
      "metadata": {
        "colab": {
          "base_uri": "https://localhost:8080/"
        },
        "id": "T6Pim6HC9w1y",
        "outputId": "66f2cf62-5349-4ca6-cd54-a8d9091b6b11"
      },
      "execution_count": null,
      "outputs": [
        {
          "output_type": "stream",
          "name": "stdout",
          "text": [
            "enter a start number1\n",
            "enter a stop number9\n",
            "1\n",
            "22\n",
            "333\n",
            "4444\n",
            "55555\n",
            "666666\n",
            "7777777\n",
            "88888888\n",
            "999999999\n"
          ]
        }
      ]
    },
    {
      "cell_type": "markdown",
      "source": [
        ""
      ],
      "metadata": {
        "id": "YwzdoDKlY6jy"
      }
    },
    {
      "cell_type": "code",
      "source": [
        "city = Phoenix\n",
        "sprint(city)"
      ],
      "metadata": {
        "id": "OWys0opPV37Y"
      },
      "execution_count": null,
      "outputs": []
    },
    {
      "cell_type": "markdown",
      "source": [
        "# New Section"
      ],
      "metadata": {
        "id": "Cc3Qp3scmRhs"
      }
    },
    {
      "cell_type": "markdown",
      "source": [
        "# New Section\n"
      ],
      "metadata": {
        "id": "yOqVZ0eHmR9s"
      }
    },
    {
      "cell_type": "code",
      "source": [
        "sehir = \"ANTALYA\"\n",
        "\n",
        "print(sehir [1 : 5]  )\n",
        "print(sehir [ : 6 ] )\n",
        "print(sehir [ -3 : -2] )\n",
        "print( sehir [ : : 3] )\n",
        "print(sehir [ : 4 : 2])\n",
        "print(sehir[ 1:6:2])\n",
        "sehir[2:6]\n",
        "print(sehir [2 : 6] )\n",
        "sehir[-2:-5]\n",
        "sehir[::-2]"
      ],
      "metadata": {
        "id": "kqKaKQ6OmYel"
      },
      "execution_count": null,
      "outputs": []
    },
    {
      "cell_type": "code",
      "source": [
        "string_one = \"supper\"\n",
        "string_two = \"case\"\n",
        "string_comb = string_one + string_two\n",
        "print(string_comb)\n",
        "print(\"supper\"+ \"case\")\n",
        "print(string_one +string_two)\n",
        "print(* \"string_one\")\n",
        "\n",
        "\n"
      ],
      "metadata": {
        "id": "wfGMf-zHmZQd"
      },
      "execution_count": null,
      "outputs": []
    },
    {
      "cell_type": "code",
      "source": [
        "time = \"04:00\"\n",
        "work = \"hospital\"\n",
        "lunc_time = \"12:30\"\n",
        "\" ben sabah {} de uyandim . {} calismaya basladim. ogle yemegi {}\" .format(time, work,lunc_time)\n"
      ],
      "metadata": {
        "id": "qtOF53O5_iT3"
      },
      "execution_count": null,
      "outputs": []
    },
    {
      "cell_type": "code",
      "source": [
        ""
      ],
      "metadata": {
        "id": "oNfZZfGPmZUL"
      },
      "execution_count": null,
      "outputs": []
    },
    {
      "cell_type": "code",
      "source": [
        ""
      ],
      "metadata": {
        "id": "v_JSfT-JmZYN"
      },
      "execution_count": null,
      "outputs": []
    },
    {
      "cell_type": "markdown",
      "source": [
        "# New Section"
      ],
      "metadata": {
        "id": "SqwVDBC8mTF0"
      }
    },
    {
      "cell_type": "code",
      "source": [
        "city= Phoenix\n",
        " city[ 2 : -6 ]"
      ],
      "metadata": {
        "id": "xxbVN_WcV3-r"
      },
      "execution_count": null,
      "outputs": []
    },
    {
      "cell_type": "code",
      "source": [
        "int=\"2020\"\n",
        "print( \" clarusway\"+ int(\"2020\") )"
      ],
      "metadata": {
        "id": "dpcu1QXFV4Bv"
      },
      "execution_count": null,
      "outputs": []
    },
    {
      "cell_type": "code",
      "source": [
        "print(\"clarusway\"  + (\"2020\")+\".\" )"
      ],
      "metadata": {
        "id": "7FYrt1k2V4Ed"
      },
      "execution_count": null,
      "outputs": []
    },
    {
      "cell_type": "code",
      "source": [
        "print(7//2)\n"
      ],
      "metadata": {
        "id": "n6Yngv7tV4HF"
      },
      "execution_count": null,
      "outputs": []
    },
    {
      "cell_type": "code",
      "source": [
        ""
      ],
      "metadata": {
        "id": "pEXRkRGeV4JZ"
      },
      "execution_count": null,
      "outputs": []
    },
    {
      "cell_type": "code",
      "source": [
        ""
      ],
      "metadata": {
        "id": "c7gKYYSIV4Mr"
      },
      "execution_count": null,
      "outputs": []
    },
    {
      "cell_type": "code",
      "source": [
        ""
      ],
      "metadata": {
        "id": "4YSj7tJoV4Oy"
      },
      "execution_count": null,
      "outputs": []
    },
    {
      "cell_type": "code",
      "source": [
        ""
      ],
      "metadata": {
        "id": "A_OI5uESV4Rl"
      },
      "execution_count": null,
      "outputs": []
    },
    {
      "cell_type": "code",
      "source": [
        ""
      ],
      "metadata": {
        "id": "Z0MPpV5pV4UK"
      },
      "execution_count": null,
      "outputs": []
    },
    {
      "cell_type": "code",
      "source": [
        ""
      ],
      "metadata": {
        "id": "6oCgWFMEV4W7"
      },
      "execution_count": null,
      "outputs": []
    },
    {
      "cell_type": "code",
      "source": [
        ""
      ],
      "metadata": {
        "id": "BVX4KPaGV4af"
      },
      "execution_count": null,
      "outputs": []
    },
    {
      "cell_type": "code",
      "source": [
        ""
      ],
      "metadata": {
        "id": "rBnBYcJvV4c5"
      },
      "execution_count": null,
      "outputs": []
    },
    {
      "cell_type": "code",
      "source": [
        "days_in_february = 28\n",
        "print(str(days_in_february) + 'total days in february' )\n",
        "\n"
      ],
      "metadata": {
        "id": "NnS_asblNBab"
      },
      "execution_count": null,
      "outputs": []
    },
    {
      "cell_type": "code",
      "source": [
        "firt_name = mehmet\n",
        "second_name = akgun\n",
        "print( \"hello , \" + first_name + '' last_name  )"
      ],
      "metadata": {
        "id": "_EoEipWmIXQc"
      },
      "execution_count": null,
      "outputs": []
    },
    {
      "cell_type": "code",
      "source": [
        "print( 'hello,') '{} {}' . format ( first+name , last_name)"
      ],
      "metadata": {
        "id": "AUvzSW2GJc3C"
      },
      "execution_count": null,
      "outputs": []
    },
    {
      "cell_type": "code",
      "source": [
        "print( 'hello, {0} {1}' . format(first_name , last_name)"
      ],
      "metadata": {
        "id": "K2zVlrzCMKxV"
      },
      "execution_count": null,
      "outputs": []
    },
    {
      "cell_type": "code",
      "source": [
        "meyve = 'portakal'\n",
        " print ( 'kelime:' , meyve )\n",
        " print  ( ' ilk harf :' , meyve [0])\n",
        " print ( 'ikinci harf :' , meyve [1])\n",
        " print ( \"3. ila 5. harfler : \", meyve [ 2 : 5 ])\n",
        " print ( \" 3 ' ten sonraki harf : \" , meyve [2 : ])\n",
        "  \n",
        "\n",
        "\n"
      ],
      "metadata": {
        "id": "KSjGdFxJSGaF"
      },
      "execution_count": null,
      "outputs": []
    },
    {
      "cell_type": "code",
      "source": [
        "path = 'claruway'\n",
        "print(path [0])"
      ],
      "metadata": {
        "id": "vanc5d6Nw0tJ"
      },
      "execution_count": null,
      "outputs": []
    },
    {
      "cell_type": "code",
      "source": [
        "sentence = 'With hard work and dedication , anything is possible.'\n",
        "\n",
        "print(sentence . swapcase ())"
      ],
      "metadata": {
        "id": "ZFN6IU-Zw1Lg"
      },
      "execution_count": null,
      "outputs": []
    },
    {
      "cell_type": "code",
      "source": [
        "print( 'www' , 'Clarusway' , 'com',  sep= '.' , end='')\n",
        "print('will' , end= ' ')\n",
        "print('open' , end= ' ')\n",
        "print('your' , end= ' ')\n",
        "print('path' , end=  ' ')"
      ],
      "metadata": {
        "id": "G7HRFh5-w1Qz"
      },
      "execution_count": null,
      "outputs": []
    },
    {
      "cell_type": "code",
      "source": [
        "name = 'Clarusway'\n",
        "year='2020'\n",
        "print=(int(name) , int(year) )"
      ],
      "metadata": {
        "id": "36tsoNgVw1U7"
      },
      "execution_count": null,
      "outputs": []
    },
    {
      "cell_type": "code",
      "source": [
        "print( \"it 's a small code after all\" )"
      ],
      "metadata": {
        "id": "3rivAYgKLebK"
      },
      "execution_count": null,
      "outputs": []
    },
    {
      "cell_type": "code",
      "source": [
        "first_name= \"mehmet\"\n",
        "last_name=\"akgun\" \n",
        "print first_name.capitaliza() + second_name.capitalize()"
      ],
      "metadata": {
        "id": "JaeW6yyILeeg"
      },
      "execution_count": null,
      "outputs": []
    },
    {
      "cell_type": "code",
      "source": [
        "print'False or {0} and [] '"
      ],
      "metadata": {
        "id": "6RlNQ4cGuuGK"
      },
      "execution_count": null,
      "outputs": []
    },
    {
      "cell_type": "code",
      "source": [
        ""
      ],
      "metadata": {
        "id": "hLjxlJYSLeh3"
      },
      "execution_count": null,
      "outputs": []
    },
    {
      "cell_type": "code",
      "source": [
        ""
      ],
      "metadata": {
        "id": "SAXaCShJLek8"
      },
      "execution_count": null,
      "outputs": []
    },
    {
      "cell_type": "code",
      "source": [
        ""
      ],
      "metadata": {
        "id": "1XnjEHcYLerG"
      },
      "execution_count": null,
      "outputs": []
    },
    {
      "cell_type": "code",
      "source": [
        ""
      ],
      "metadata": {
        "id": "4I9KDDX5Leuw"
      },
      "execution_count": null,
      "outputs": []
    },
    {
      "cell_type": "code",
      "source": [
        ""
      ],
      "metadata": {
        "id": "4oYucxB9Leyu"
      },
      "execution_count": null,
      "outputs": []
    },
    {
      "cell_type": "code",
      "source": [
        "me "
      ],
      "metadata": {
        "id": "Wf73sWiqao6D"
      },
      "execution_count": null,
      "outputs": []
    },
    {
      "cell_type": "code",
      "source": [
        "fruit = \"elma\"\n",
        "vegetable = \" marul\"\n",
        "\n",
        "print ( \" using + : \" , fruit + vegetable)"
      ],
      "metadata": {
        "id": "x8UTOtYjhzOB"
      },
      "execution_count": null,
      "outputs": []
    },
    {
      "cell_type": "code",
      "source": [
        "city  = 'Phoenix'\n",
        "\n",
        "print ( city  [ 1 : ])  # dizin 1' den sonuna kadar baslar\n",
        "print ( city [ : 6  ])    # sifirdan 5. dizine kadar baslar   \n",
        "print ( city [ :: 2 ])    # sifirdan baslayip 2 adim sonuna kadar \n",
        "print (  city [ 1 :: 2 ])  # 1 den baslayip 2 adim sonuna kadar\n",
        "print (  city [ -3 : ])   # -3 ten  baslayip sonuna kadar gider\n",
        "print (  city [ :: - 1 ])  # negatif adim sondan sifira baslar\n"
      ],
      "metadata": {
        "id": "lFny4pJySGgQ"
      },
      "execution_count": null,
      "outputs": []
    },
    {
      "cell_type": "code",
      "source": [
        "sebze = 'domates'\n",
        "print ( 'kelimenin uzunlugu'  , 'sebze : ' , len ( sebze )"
      ],
      "metadata": {
        "id": "RQb11gL9SGkP"
      },
      "execution_count": null,
      "outputs": []
    },
    {
      "cell_type": "code",
      "source": [
        ""
      ],
      "metadata": {
        "id": "lMHs5qvhSGnn"
      },
      "execution_count": null,
      "outputs": []
    },
    {
      "cell_type": "code",
      "source": [
        " ()"
      ],
      "metadata": {
        "id": "E-ETtHb3SGq_"
      },
      "execution_count": null,
      "outputs": []
    },
    {
      "cell_type": "code",
      "source": [
        ""
      ],
      "metadata": {
        "id": "ltJRJSs5SGxL"
      },
      "execution_count": null,
      "outputs": []
    },
    {
      "cell_type": "code",
      "source": [
        "name = input(\"what is your name?\")\n",
        "print(\"hello \" , name )\n",
        "age = int(input(\"How old are you?\"))\n",
        "if age >=70:\n",
        "    print(\"you are aged to perfection\")\n",
        "else:\n",
        "    print(\"you are spring chicken\")    "
      ],
      "metadata": {
        "id": "2Cmt_zOzGq7g"
      },
      "execution_count": null,
      "outputs": []
    },
    {
      "cell_type": "code",
      "source": [
        "text1= \"Clarusway,\"*3\n",
        "text2= \"\\n\\t\" + text1\n",
        "text3= \"\\n\\t\\t\" + text1\n",
        "print(text1 + text2 + text3 , sep= \"\\n\")"
      ],
      "metadata": {
        "id": "dsy_A3RZi9L-"
      },
      "execution_count": null,
      "outputs": []
    },
    {
      "cell_type": "code",
      "source": [
        "print(1+3)**(2**(1*2/2)/2)"
      ],
      "metadata": {
        "id": "1goI5G8o6TZ7"
      },
      "execution_count": null,
      "outputs": []
    },
    {
      "cell_type": "code",
      "source": [
        "print=(False or {0} and ())"
      ],
      "metadata": {
        "id": "07wIYyM7-Pk0"
      },
      "execution_count": null,
      "outputs": []
    },
    {
      "cell_type": "code",
      "source": [
        "?print=\n",
        "\n"
      ],
      "metadata": {
        "id": "R1EvjUFQBKV1"
      },
      "execution_count": null,
      "outputs": []
    },
    {
      "cell_type": "code",
      "source": [
        "print('c:\\\\north pole\\noise_penguins.txt')"
      ],
      "metadata": {
        "id": "Vp77Te-aF9mN"
      },
      "execution_count": null,
      "outputs": []
    },
    {
      "cell_type": "code",
      "source": [
        "print(2 and 3)\n"
      ],
      "metadata": {
        "id": "5eYgpPd-SwN-"
      },
      "execution_count": null,
      "outputs": []
    },
    {
      "cell_type": "code",
      "source": [
        "print(1 and 0)\n"
      ],
      "metadata": {
        "id": "3XtUfE_3TGMd"
      },
      "execution_count": null,
      "outputs": []
    },
    {
      "cell_type": "code",
      "source": [
        "print( Clarusway, Clarusway, clarusway, \\nClarusway, clarusway, Claruway, \\nClarusway, Clarusway, Clarusway, )"
      ],
      "metadata": {
        "id": "h4FrW3Mfvc8A"
      },
      "execution_count": null,
      "outputs": []
    },
    {
      "cell_type": "code",
      "source": [
        "print=(False)"
      ],
      "metadata": {
        "id": "syp7Mk3C-AMv"
      },
      "execution_count": null,
      "outputs": []
    },
    {
      "cell_type": "code",
      "source": [
        "a=3\n",
        "b=4\n",
        "c= (a**2) + (b**2) * 0.5\n",
        "\n",
        "print(c)"
      ],
      "metadata": {
        "id": "6RUKzfaXARcX"
      },
      "execution_count": null,
      "outputs": []
    },
    {
      "cell_type": "code",
      "source": [
        "print( 1+3) ** (2 ** (1 * 2/2)/2)"
      ],
      "metadata": {
        "id": "3iQjRNcX66_x"
      },
      "execution_count": null,
      "outputs": []
    },
    {
      "cell_type": "code",
      "source": [
        "print( 1 + 3 )\n"
      ],
      "metadata": {
        "id": "TiPzQhkR7ftg"
      },
      "execution_count": null,
      "outputs": []
    },
    {
      "cell_type": "code",
      "source": [
        "a= ( 1 + 3 ) ** ( 2 ** ( 1 * 2/2) / 2)\n",
        "print(a)"
      ],
      "metadata": {
        "id": "2uBBLcZ_8V12"
      },
      "execution_count": null,
      "outputs": []
    },
    {
      "cell_type": "code",
      "source": [
        "a=3\n",
        "b=4\n",
        "task= (a**2) + ( b**2 ) ** 0.5\n",
        "print(task)\n",
        "              \n",
        "    "
      ],
      "metadata": {
        "id": "1OGXSEiH-54F"
      },
      "execution_count": null,
      "outputs": []
    },
    {
      "cell_type": "code",
      "source": [
        "man = \"andrew\"\n",
        "color = \"green\"\n",
        "age = 32\n",
        "print(age)"
      ],
      "metadata": {
        "id": "25FR3hERKQ8X"
      },
      "execution_count": null,
      "outputs": []
    },
    {
      "cell_type": "code",
      "source": [
        "man = \"andrew\"\n",
        "color = \"green\"\n",
        "age = 32\n",
        "pi = 3.14 \n",
        "color = \"yellow\"\n",
        "age = 44\n",
        "man = \"joseph\"\n",
        "\n",
        "print(man, age, color, pi)\n"
      ],
      "metadata": {
        "id": "H3z1c8G-KtWv"
      },
      "execution_count": null,
      "outputs": []
    },
    {
      "cell_type": "code",
      "source": [
        "type(pi)\n",
        "\n",
        "\n"
      ],
      "metadata": {
        "id": "gD_UEXWgMToW"
      },
      "execution_count": null,
      "outputs": []
    },
    {
      "cell_type": "code",
      "source": [
        "int"
      ],
      "metadata": {
        "id": "Tk4SOKSHPYye"
      },
      "execution_count": null,
      "outputs": []
    },
    {
      "cell_type": "markdown",
      "source": [
        "typ('valuable')"
      ],
      "metadata": {
        "id": "xGqyT4EjfG1b"
      }
    },
    {
      "cell_type": "code",
      "source": [
        "int(\"10\")"
      ],
      "metadata": {
        "id": "D4ND7JAGPqGk"
      },
      "execution_count": null,
      "outputs": []
    },
    {
      "cell_type": "code",
      "source": [
        "int(3.14)"
      ],
      "metadata": {
        "id": "7U-zDY5wPqKA"
      },
      "execution_count": null,
      "outputs": []
    },
    {
      "cell_type": "code",
      "source": [
        "no = 3\n",
        "\n",
        "converted_no = float(no)\n",
        "print(converted_no)\n",
        "print(type(converted_no))\n",
        "\n"
      ],
      "metadata": {
        "id": "AsC1I_xQPqN6"
      },
      "execution_count": null,
      "outputs": []
    },
    {
      "cell_type": "code",
      "source": [
        "x = 39\n",
        "v = \"11\"\n",
        "y = \"2.5\"\n",
        "z = \"i am at_39\"\n",
        "\n",
        "print(x-int(v))\n",
        "print(x-float(y))\n",
        "print(z+str(x))"
      ],
      "metadata": {
        "id": "tQorIlGjSZ4c"
      },
      "execution_count": null,
      "outputs": []
    },
    {
      "cell_type": "code",
      "source": [
        ""
      ],
      "metadata": {
        "id": "AmVdp6K1PqSW"
      },
      "execution_count": null,
      "outputs": []
    },
    {
      "cell_type": "code",
      "source": [
        "text1=(\"i have learned strings\")  \n"
      ],
      "metadata": {
        "id": "iHhJmKf9dHeS"
      },
      "execution_count": null,
      "outputs": []
    },
    {
      "cell_type": "code",
      "source": [
        "number_int = 123\n",
        "number_flt = 1.23\n",
        "\n",
        "number_new = number_int + number_flt\n",
        "\n",
        "print(number_new)\n",
        "\n",
        "print(\"datatype of number_int:\", type(number_int))\n",
        "\n"
      ],
      "metadata": {
        "id": "20u3meamVPqX"
      },
      "execution_count": null,
      "outputs": []
    },
    {
      "cell_type": "code",
      "source": [
        "print(11-7)"
      ],
      "metadata": {
        "id": "a6PfkmI4cR97"
      },
      "execution_count": null,
      "outputs": []
    },
    {
      "cell_type": "code",
      "source": [
        "print('mehmet')"
      ],
      "metadata": {
        "id": "ese5BynWgR_1"
      },
      "execution_count": null,
      "outputs": []
    },
    {
      "cell_type": "code",
      "execution_count": null,
      "metadata": {
        "id": "nNZRm0vx2OKM"
      },
      "outputs": [],
      "source": [
        "number_int= 123\n",
        "number_str=\"456\"\n",
        "\n",
        "\n",
        "number_str = int(number_str)\n",
        "print(\" Data type of number_str after type Casting:\", type (number_str))\n"
      ]
    },
    {
      "cell_type": "markdown",
      "source": [
        ""
      ],
      "metadata": {
        "id": "wHCDQ--O4sgY"
      }
    },
    {
      "cell_type": "code",
      "source": [
        "\n"
      ],
      "metadata": {
        "id": "ZMxmyBpq-Hgm"
      },
      "execution_count": null,
      "outputs": []
    },
    {
      "cell_type": "code",
      "source": [
        "program = 'clarusway'\n",
        "   \n",
        "\n",
        "\n",
        "       \n",
        "\n",
        "          "
      ],
      "metadata": {
        "id": "Kh3ALhYl41IT"
      },
      "execution_count": null,
      "outputs": []
    },
    {
      "cell_type": "code",
      "source": [
        "print ('data type of number_int', type(number_int))"
      ],
      "metadata": {
        "id": "7DBoewrbdEGD"
      },
      "execution_count": null,
      "outputs": []
    },
    {
      "cell_type": "code",
      "source": [
        "number_int =123\n",
        "('Data type of number _int:', type( number_str)\n",
        "print('Data type of numbr_int:', type(number_int))\n"
      ],
      "metadata": {
        "id": "sXQXV8eQdOix"
      },
      "execution_count": null,
      "outputs": []
    },
    {
      "cell_type": "code",
      "source": [
        "print(11 % 2)\n",
        "\n",
        "print((4*5) / 2 )"
      ],
      "metadata": {
        "id": "KCgmbXxxfPc6"
      },
      "execution_count": null,
      "outputs": []
    },
    {
      "cell_type": "code",
      "source": [
        "print(2 ** 3)\n",
        "print(3 ** 2)\n",
        "a = 2\n",
        "b = 8\n",
        "print((a * b) ** 0.5 )\n"
      ],
      "metadata": {
        "id": "jLCTu6n4gFu0"
      },
      "execution_count": null,
      "outputs": []
    },
    {
      "cell_type": "code",
      "source": [
        "pr"
      ],
      "metadata": {
        "id": "15WQ92hQfMEe"
      },
      "execution_count": null,
      "outputs": []
    },
    {
      "cell_type": "code",
      "source": [
        "pi = 3.14\n",
        "r = 5\n",
        "area = pi * r**2\n",
        "print(area)"
      ],
      "metadata": {
        "id": "ptc8ER34eqty"
      },
      "execution_count": null,
      "outputs": []
    },
    {
      "cell_type": "code",
      "source": [
        "print(11-7)\n"
      ],
      "metadata": {
        "id": "hAXfM62ecezU"
      },
      "execution_count": null,
      "outputs": []
    },
    {
      "cell_type": "code",
      "source": [
        "print(11-7)\n",
        "print(4+ 11.0)\n",
        "print('11 - 7')\n",
        "print('4'+ 4)\n"
      ],
      "metadata": {
        "id": "G6GGrKv2cqIV"
      },
      "execution_count": null,
      "outputs": []
    },
    {
      "cell_type": "code",
      "source": [
        "pi = 3.14\n",
        "r = 5\n",
        "alan = pi * r**2\n",
        "print(area)"
      ],
      "metadata": {
        "id": "AgSmfUpDdoir"
      },
      "execution_count": null,
      "outputs": []
    },
    {
      "cell_type": "markdown",
      "source": [
        "\n",
        "\n",
        "\n",
        "\n",
        "\n",
        "\n"
      ],
      "metadata": {
        "id": "bbQ6w0lyanp7"
      }
    },
    {
      "cell_type": "markdown",
      "source": [
        "print('5' + '1' )\n",
        "\n"
      ],
      "metadata": {
        "id": "ycBrcoo43vP1"
      }
    },
    {
      "cell_type": "markdown",
      "source": [
        ""
      ],
      "metadata": {
        "id": "L6wjiOLygjum"
      }
    },
    {
      "cell_type": "code",
      "source": [
        ""
      ],
      "metadata": {
        "id": "CcsVT-wqgkVN"
      },
      "execution_count": null,
      "outputs": []
    },
    {
      "cell_type": "code",
      "source": [
        "from IPython.display import display, Javascript\n",
        "from google.colab.output import eval_js\n",
        "from base64 import b64decode\n",
        "\n",
        "def take_photo(filename='photo.jpg', quality=0.8):\n",
        "  js = Javascript('''\n",
        "    async function takePhoto(quality) {\n",
        "      const div = document.createElement('div');\n",
        "      const capture = document.createElement('button');\n",
        "      capture.textContent = 'Capture';\n",
        "      div.appendChild(capture);\n",
        "\n",
        "      const video = document.createElement('video');\n",
        "      video.style.display = 'block';\n",
        "      const stream = await navigator.mediaDevices.getUserMedia({video: true});\n",
        "\n",
        "      document.body.appendChild(div);\n",
        "      div.appendChild(video);\n",
        "      video.srcObject = stream;\n",
        "      await video.play();\n",
        "\n",
        "      // Resize the output to fit the video element.\n",
        "      google.colab.output.setIframeHeight(document.documentElement.scrollHeight, true);\n",
        "\n",
        "      // Wait for Capture to be clicked.\n",
        "      await new Promise((resolve) => capture.onclick = resolve);\n",
        "\n",
        "      const canvas = document.createElement('canvas');\n",
        "      canvas.width = video.videoWidth;\n",
        "      canvas.height = video.videoHeight;\n",
        "      canvas.getContext('2d').drawImage(video, 0, 0);\n",
        "      stream.getVideoTracks()[0].stop();\n",
        "      div.remove();\n",
        "      return canvas.toDataURL('image/jpeg', quality);\n",
        "    }\n",
        "    ''')\n",
        "  display(js)\n",
        "  data = eval_js('takePhoto({})'.format(quality))\n",
        "  binary = b64decode(data.split(',')[1])\n",
        "  with open(filename, 'wb') as f:\n",
        "    f.write(binary)\n",
        "  return filename"
      ],
      "metadata": {
        "id": "qAWTS0_agq0R"
      },
      "execution_count": null,
      "outputs": []
    },
    {
      "cell_type": "code",
      "source": [
        "%%javascript\n",
        "const listenerChannel = new BroadcastChannel('channel');\n",
        "listenerChannel.onmessage = (msg) => {\n",
        "  const div = document.createElement('div');\n",
        "  div.textContent = msg.data;\n",
        "  document.body.appendChild(div);\n",
        "};"
      ],
      "metadata": {
        "id": "H58snF9TgsxJ"
      },
      "execution_count": null,
      "outputs": []
    },
    {
      "cell_type": "code",
      "source": [
        "%%javascript\n",
        "const senderChannel = new BroadcastChannel('channel');\n",
        "senderChannel.postMessage('Hello world!');"
      ],
      "metadata": {
        "id": "45muwgIfgsxK"
      },
      "execution_count": null,
      "outputs": []
    },
    {
      "cell_type": "code",
      "source": [
        "from IPython.display import Image\n",
        "try:\n",
        "  filename = take_photo()\n",
        "  print('Saved to {}'.format(filename))\n",
        "  \n",
        "  # Show the image which was just taken.\n",
        "  display(Image(filename))\n",
        "except Exception as err:\n",
        "  # Errors will be thrown if the user does not have a webcam or if they do not\n",
        "  # grant the page permission to access it.\n",
        "  print(str(err))"
      ],
      "metadata": {
        "id": "4QX3uDf8gq0T"
      },
      "execution_count": null,
      "outputs": []
    }
  ]
}