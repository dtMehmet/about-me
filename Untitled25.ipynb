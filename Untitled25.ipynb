{
  "nbformat": 4,
  "nbformat_minor": 0,
  "metadata": {
    "colab": {
      "name": "Untitled25.ipynb",
      "private_outputs": true,
      "provenance": [],
      "authorship_tag": "ABX9TyPL+YiQVcsyuaIgDbHQZYx3",
      "include_colab_link": true
    },
    "kernelspec": {
      "name": "python3",
      "display_name": "Python 3"
    },
    "language_info": {
      "name": "python"
    }
  },
  "cells": [
    {
      "cell_type": "markdown",
      "metadata": {
        "id": "view-in-github",
        "colab_type": "text"
      },
      "source": [
        "<a href=\"https://colab.research.google.com/github/dtMehmet/about-me/blob/main/Untitled25.ipynb\" target=\"_parent\"><img src=\"https://colab.research.google.com/assets/colab-badge.svg\" alt=\"Open In Colab\"/></a>"
      ]
    },
    {
      "cell_type": "code",
      "execution_count": null,
      "metadata": {
        "id": "wSWFaLfr8sLU"
      },
      "outputs": [],
      "source": [
        "number=int(input(\"write a number :\"))\n",
        "asal_sayi=False\n",
        "if number >1:\n",
        " for i in range(2,number):\n",
        "  if (number % i) ==0 :\n",
        "    asal_sayi=True\n",
        "    break\n",
        "if asal_sayi:\n",
        "   print(number , \"is not asal sayi\")  \n",
        "else:\n",
        "   print(number , \"is asal sayi\")  \n",
        "\n",
        "\n",
        " \n"
      ]
    }
  ]
}