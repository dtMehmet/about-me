{
  "nbformat": 4,
  "nbformat_minor": 0,
  "metadata": {
    "colab": {
      "name": "formuller27.ipynb",
      "private_outputs": true,
      "provenance": [],
      "authorship_tag": "ABX9TyOFRQYVHoCR4UYVcMnou+xP",
      "include_colab_link": true
    },
    "kernelspec": {
      "name": "python3",
      "display_name": "Python 3"
    },
    "language_info": {
      "name": "python"
    }
  },
  "cells": [
    {
      "cell_type": "markdown",
      "metadata": {
        "id": "view-in-github",
        "colab_type": "text"
      },
      "source": [
        "<a href=\"https://colab.research.google.com/github/dtMehmet/about-me/blob/main/formuller27.ipynb\" target=\"_parent\"><img src=\"https://colab.research.google.com/assets/colab-badge.svg\" alt=\"Open In Colab\"/></a>"
      ]
    },
    {
      "cell_type": "code",
      "source": [
        "#ARMSTRONG SAYI HESAPLAMASI\n",
        "\n",
        "while True :\n",
        "  number =input('enter a positive integer number :')\n",
        "  digits =len(number)                          #girmis oldugum sayinin  bsamak sayisi\n",
        "  summ=0\n",
        "\n",
        "  if not number.isdigit() :                    #number is digit True verir biz dongunun false veripp calismasini istedigimizden  not ekledik\n",
        "         print(number, 'is invalid entry . please enter valid input') \n",
        "  elif int(number) >=0 :   \n",
        "\n",
        "    for i in range (digits) :\n",
        "      summ=summ+ int(number[i])**digits\n",
        "\n",
        "\n",
        "    if summ == int(number) :\n",
        "         print(number,'is an armstrong number.')\n",
        "\n",
        "         break\n",
        "\n",
        "    else :\n",
        "        print(number, 'is not  an armstrong Number.') \n",
        "        break \n",
        "       \n",
        "\n",
        "\n"
      ],
      "metadata": {
        "id": "vqpv-VmuE35s"
      },
      "execution_count": null,
      "outputs": []
    },
    {
      "cell_type": "markdown",
      "source": [
        "**ASAL** SAYILARIN BULUNMASI\n"
      ],
      "metadata": {
        "id": "JJiCLN9XTvVG"
      }
    },
    {
      "cell_type": "code",
      "source": [
        "n= int(input('Enter a positive int number to check if it is a Prime number :'))\n",
        "counter = 0\n",
        "for i in range(1, n+1) :\n",
        "   if n % i == 0 :\n",
        "     counter +=1  \n",
        "\n",
        "if (n==0) or (n ==1) or ( counter >= 3) :\n",
        "  print(n,'is not a Prime Number')  \n",
        "\n",
        "else :\n",
        "  print(n, 'is a prime Number')    "
      ],
      "metadata": {
        "id": "6FDdHqB5FEYl"
      },
      "execution_count": null,
      "outputs": []
    },
    {
      "cell_type": "markdown",
      "source": [
        "**LIST** COMPREHENSION "
      ],
      "metadata": {
        "id": "nExPqcJ9Xzaa"
      }
    },
    {
      "cell_type": "code",
      "source": [
        "sayilar =[]\n",
        "\n",
        "for i in range(5) :\n",
        "    sayilar.append(i)\n",
        "    print(sayilar)\n",
        "\n",
        "    ###bu iterasyon tek satirla asagidaki gibi yazilir\n",
        "[i for i in range(5)]    "
      ],
      "metadata": {
        "id": "DU2wRkKcX30G"
      },
      "execution_count": null,
      "outputs": []
    },
    {
      "cell_type": "code",
      "source": [
        "# kumedeki her elemanin karesinin bulunup kume yapilmasi\n",
        "[i**2 for i in range(5)]\n",
        "\n",
        "# veya kume elemanlarinin kendisi ile toplanmasi\n",
        "\n",
        "[i+i for i in range(5)]\n"
      ],
      "metadata": {
        "id": "ncQiLl7kX4Ji"
      },
      "execution_count": null,
      "outputs": []
    },
    {
      "cell_type": "markdown",
      "source": [
        "TERNARY** IF** STATEMENT\n"
      ],
      "metadata": {
        "id": "l1EU_JiXhPZg"
      }
    },
    {
      "cell_type": "code",
      "source": [
        "my_list =[1, 2, 3, 4, 5, 6]\n",
        "\n",
        "new_list =[] # tek olan elemanlarin karesinin listenin icinde toplanmasi\n",
        "\n",
        "for i in my_list :\n",
        "  if i% 2 :\n",
        "     new_list.append(i**2)\n",
        "     print(new_list)\n",
        "\n"
      ],
      "metadata": {
        "id": "QVt1gYkuhX_w"
      },
      "execution_count": null,
      "outputs": []
    },
    {
      "cell_type": "markdown",
      "source": [
        "TERNARY YAPILARIN **FORMULASYONU**\n"
      ],
      "metadata": {
        "id": "8IGawfNekklG"
      }
    },
    {
      "cell_type": "code",
      "source": [
        "```` python\n",
        "\n",
        "if condition :\n",
        "  execute_body1\n",
        "else :\n",
        "  execute_body2  \n",
        "\n",
        "  execute_body1 if condition else execute_body2\n",
        "\n",
        "```"
      ],
      "metadata": {
        "id": "32bXoj9ChYEP"
      },
      "execution_count": null,
      "outputs": []
    },
    {
      "cell_type": "code",
      "source": [
        "condition= True\n",
        "if condition :\n",
        "    a=1\n",
        "else :\n",
        "  a=0\n",
        "print(a)"
      ],
      "metadata": {
        "id": "F4Ynv9iHhYIy"
      },
      "execution_count": null,
      "outputs": []
    },
    {
      "cell_type": "code",
      "source": [
        "my_list =[1, 2, 3, 4, 5, 6]    # her bir elemanin karesini alir\n",
        " \n",
        "[i**2 for i in my_list]\n",
        "\n",
        "\n",
        "[i**2 for i in my_list if i % 2]   #if sartina gore bodyyi  calistir demek\n",
        "\n",
        "[i**2 for i in my_list if not i % 2]    #ciftlerin karesini alir"
      ],
      "metadata": {
        "id": "pnjiCzE7hYM2"
      },
      "execution_count": null,
      "outputs": []
    },
    {
      "cell_type": "code",
      "source": [
        "#ord('a')\n",
        "#ord ('c')\n",
        "ord('z')\n",
        "\n",
        "\n"
      ],
      "metadata": {
        "id": "8VAioHK4hYQV"
      },
      "execution_count": null,
      "outputs": []
    },
    {
      "cell_type": "markdown",
      "source": [
        "# New Section"
      ],
      "metadata": {
        "id": "MD4OyCIMGDrP"
      }
    },
    {
      "cell_type": "code",
      "source": [
        "def toplam(a, b):\n",
        "  print(a+b)"
      ],
      "metadata": {
        "id": "IfgRL9bVhW9l"
      },
      "execution_count": null,
      "outputs": []
    },
    {
      "cell_type": "markdown",
      "source": [
        "HESAP **MAKINASI**"
      ],
      "metadata": {
        "id": "pAqK0FUmp82_"
      }
    },
    {
      "cell_type": "code",
      "source": [
        "def calculator(a, b, opr):\n",
        "    if opr =='+' :\n",
        "        print(a+b)\n",
        "    elif opr == '-':\n",
        "       print(a-b) \n",
        "    elif opr == '/' :\n",
        "       print(a/b)  \n",
        "    elif opr== '*' :\n",
        "       print(a*b) \n",
        "    else :\n",
        "      print ('put a valid number :')   \n",
        "\n",
        "calculator(7, 9, '*')"
      ],
      "metadata": {
        "id": "2CYTGqC2hXBW"
      },
      "execution_count": null,
      "outputs": []
    },
    {
      "cell_type": "code",
      "source": [
        ""
      ],
      "metadata": {
        "id": "prO-PvovhXFf"
      },
      "execution_count": null,
      "outputs": []
    },
    {
      "cell_type": "code",
      "source": [
        ""
      ],
      "metadata": {
        "id": "qIZ20oWHhXJL"
      },
      "execution_count": null,
      "outputs": []
    },
    {
      "cell_type": "markdown",
      "source": [
        "# New Section"
      ],
      "metadata": {
        "id": "fwrJcDksFA_q"
      }
    },
    {
      "cell_type": "code",
      "execution_count": null,
      "metadata": {
        "id": "w6IGOfJKDRKK"
      },
      "outputs": [],
      "source": [
        ""
      ]
    }
  ]
}