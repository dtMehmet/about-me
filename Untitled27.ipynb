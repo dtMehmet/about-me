{
  "nbformat": 4,
  "nbformat_minor": 0,
  "metadata": {
    "colab": {
      "name": "Untitled27.ipynb",
      "private_outputs": true,
      "provenance": [],
      "authorship_tag": "ABX9TyOs9c7REn14glUosV6Usdk8",
      "include_colab_link": true
    },
    "kernelspec": {
      "name": "python3",
      "display_name": "Python 3"
    },
    "language_info": {
      "name": "python"
    }
  },
  "cells": [
    {
      "cell_type": "markdown",
      "metadata": {
        "id": "view-in-github",
        "colab_type": "text"
      },
      "source": [
        "<a href=\"https://colab.research.google.com/github/dtMehmet/about-me/blob/main/Untitled27.ipynb\" target=\"_parent\"><img src=\"https://colab.research.google.com/assets/colab-badge.svg\" alt=\"Open In Colab\"/></a>"
      ]
    },
    {
      "cell_type": "code",
      "source": [
        "prime =[]\n",
        "num=100\n",
        "for n in range(2, num):\n",
        "    for x in range(2, n) :\n",
        "\n",
        "            if n % x  == 0 :\n",
        "               break\n",
        "    else :\n",
        "              prime.append(n)\n",
        "print(prime)              \n",
        "\n",
        "\n",
        "\n",
        "    "
      ],
      "metadata": {
        "id": "RUX_sHIes0zf"
      },
      "execution_count": null,
      "outputs": []
    }
  ]
}